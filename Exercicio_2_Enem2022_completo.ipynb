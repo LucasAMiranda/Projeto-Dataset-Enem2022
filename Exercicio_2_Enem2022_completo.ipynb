{
  "nbformat": 4,
  "nbformat_minor": 0,
  "metadata": {
    "colab": {
      "provenance": []
    },
    "kernelspec": {
      "name": "python3",
      "display_name": "Python 3"
    },
    "language_info": {
      "name": "python"
    }
  },
  "cells": [
    {
      "cell_type": "markdown",
      "source": [
        "## Exercicio 02 - Exploração de dados - Parte I e II\n",
        "## SCC-5948 - CIENCIA DE DADOS\n",
        "## PROFa. Dra. Roseli A. F. Romero\n",
        "----\n",
        "Objetivos da prática:\n",
        "- Carregar os dados\n",
        "- Navegar nos dados\n",
        "- Selecionar e extraír registros específicos\n",
        "- Realizar análises simples nos dados\n",
        "- Formular e responder perguntas sobre os dados\n",
        "- Visualizar dados reais (\"sujos\")\n"
      ],
      "metadata": {
        "id": "xY_1Ocpq-n-w"
      }
    },
    {
      "cell_type": "markdown",
      "source": [
        "### Funções utilizadas na prática\n",
        "\n",
        "\n",
        "- mean(axis=None, skipna=None, level=None, numeric_only=None)\n",
        "\n",
        "- median(axis=None, skipna=None, level=None, numeric_only=None)\n",
        "\n",
        "- mode\n",
        "\n",
        "- quantile(q=0.5, interpolation='linear')\n",
        "    \n",
        "- unique\n",
        "    \n",
        "- describe(percentiles=None, include=None, exclude=None)"
      ],
      "metadata": {
        "id": "rcP-rLUm-8Rt"
      }
    },
    {
      "cell_type": "markdown",
      "source": [
        "- Base de Dados:\n",
        "\n",
        "Microdados Enem 2022\n",
        "Considere o dataset extraído dos dados do ENEM 2022 disponível no arquivo amostra_enem2022.csv. Esse dataset contem informações sobre os alunos, escolas e notas dos alunos nas diferentes provas.\n",
        "Considere como atributos numéricos apenas os que são do tipo FLOAT64.\n"
      ],
      "metadata": {
        "id": "nAZnG0I5_BaL"
      }
    },
    {
      "cell_type": "markdown",
      "source": [
        "Para cada conjunto de dados, realizar as seguintes atividades:\n",
        "\n",
        "\n",
        "\n",
        "1- Baseado na descrição do conjunto de dados formule algumas hipótese, perguntas que você acha que podem ser respondidas/entendidas com este conjunto de dados. Tente formular até 3 questões. Numere cada questão.\n",
        "\n",
        "\n",
        "2- Escolha 5 atributos que você acha representar bem o problema e faça uma análise dos tipos de atributos (calcule a matriz de correlação). Justifique a escolha desses atributos no contexto do conjunto de dados e com relação às hipótese/questões levantadas na pergunta 1.\n",
        "\n",
        "3 - Exiba o mapa de calor (heatmap) correspondente da matriz de correlação.\n",
        "\n",
        "4 - Faça uma análise exploratória com as medidas vistas em aula (média, mediana, moda, obliquidade e kurtose) nos atributos anteriormente selecionados. Explique quais medidas ajudam no entendimento do conjunto de dados. Sinta-se livre para utilizar outras medidas, mas explique porque você está usando elas. Se achar necessário, pode utilizar mais atributos na análise.\n",
        "\n",
        "5 - Exiba o histograma correspondente a cada um dos atributos escolhidos.\n",
        "\n",
        "6 - Faça o boxplot correspondente a cada um dos atributos escolhidos.\n",
        "\n",
        "7 - Detectar se existem outliers. Se existirem, quais são eles?\n",
        "\n",
        "8 - Após a análise exploratória reanalise as hipóteses/questões e comente se elas já podem ser respondidas, se elas não fazem mais sentido, eventualmente se elas podem ser reformuladas para questões\n",
        "\n",
        "\n",
        "\n",
        "\n",
        "\n",
        "---\n",
        "## Entrega\n",
        "A entrega da prática deve ser feita em formato do próprio notebook. Crie um notebook seu, nas primeiras linhas identifique os membros da dupla, salve o notebook com o nome pratica_I_nome1_nome2.\n",
        "No corpo da prática primeiro identifique qual o conjunto de dados escolhido e começe a responder as perguntas no corpo do notebook. Procure utilizar as caixas de texto para a discussão da discussão (o notebook tem caixas de texto e de código).\n"
      ],
      "metadata": {
        "id": "LhUiDAg-A0Or"
      }
    },
    {
      "cell_type": "code",
      "source": [
        "#Carregar os dados\n",
        "import pandas as pd\n",
        "\n",
        "df = pd.read_csv(\"amostra_enem2022.csv\", sep=\",\")\n",
        "print(df)"
      ],
      "metadata": {
        "colab": {
          "base_uri": "https://localhost:8080/"
        },
        "id": "JZSXv7zZIvr4",
        "outputId": "ce0bd741-4d74-48f6-e78f-542f316cfe5a"
      },
      "execution_count": 60,
      "outputs": [
        {
          "output_type": "stream",
          "name": "stdout",
          "text": [
            "      Unnamed: 0  NU_NOTA_CN  NU_NOTA_CH  NU_NOTA_LC  NU_NOTA_MT  \\\n",
            "0        2401255       441.9       477.6       424.9       436.3   \n",
            "1        3283840       415.9       490.0       300.0       396.8   \n",
            "2        1745004       403.0       371.8       460.2       411.0   \n",
            "3        2781081         NaN         NaN         NaN         NaN   \n",
            "4        1712844       466.3       545.3       548.1       486.9   \n",
            "...          ...         ...         ...         ...         ...   \n",
            "9995     2926680         NaN         NaN         NaN         NaN   \n",
            "9996     3341091       371.8       538.1       412.8       472.9   \n",
            "9997     3367616       661.5       644.0       683.4       792.8   \n",
            "9998     1959897       404.6       448.1       377.7       500.6   \n",
            "9999      275303         NaN         NaN         NaN         NaN   \n",
            "\n",
            "      NU_NOTA_REDACAO  IN_TREINEIRO TP_SEXO  TP_ESCOLA  TP_COR_RACA  \\\n",
            "0               740.0             0       F          2            1   \n",
            "1               480.0             0       F          2            2   \n",
            "2               620.0             0       F          2            1   \n",
            "3                 NaN             1       F          1            1   \n",
            "4               720.0             0       M          2            1   \n",
            "...               ...           ...     ...        ...          ...   \n",
            "9995              NaN             0       M          1            3   \n",
            "9996              0.0             1       F          1            3   \n",
            "9997            840.0             0       M          1            1   \n",
            "9998            580.0             0       F          1            3   \n",
            "9999              NaN             0       F          1            1   \n",
            "\n",
            "     SG_UF_PROVA  \n",
            "0             MA  \n",
            "1             MT  \n",
            "2             SP  \n",
            "3             DF  \n",
            "4             PE  \n",
            "...          ...  \n",
            "9995          SP  \n",
            "9996          PE  \n",
            "9997          SP  \n",
            "9998          AM  \n",
            "9999          SE  \n",
            "\n",
            "[10000 rows x 11 columns]\n"
          ]
        }
      ]
    },
    {
      "cell_type": "code",
      "source": [
        "#Exiba as 20 primeiras linhas e explorar dados\n",
        "df.head(20)"
      ],
      "metadata": {
        "colab": {
          "base_uri": "https://localhost:8080/",
          "height": 677
        },
        "id": "2YsQeukeKWA2",
        "outputId": "e7340acb-49a6-4188-8036-e2ded7a3aad7"
      },
      "execution_count": 61,
      "outputs": [
        {
          "output_type": "execute_result",
          "data": {
            "text/plain": [
              "    Unnamed: 0  NU_NOTA_CN  NU_NOTA_CH  NU_NOTA_LC  NU_NOTA_MT  \\\n",
              "0      2401255       441.9       477.6       424.9       436.3   \n",
              "1      3283840       415.9       490.0       300.0       396.8   \n",
              "2      1745004       403.0       371.8       460.2       411.0   \n",
              "3      2781081         NaN         NaN         NaN         NaN   \n",
              "4      1712844       466.3       545.3       548.1       486.9   \n",
              "5       839510         NaN         NaN         NaN         NaN   \n",
              "6       775495         NaN       440.0       533.4         NaN   \n",
              "7      1348409         NaN         NaN         NaN         NaN   \n",
              "8      3040163       569.4       428.9       337.1       704.6   \n",
              "9       329325       460.7       515.8       475.2       454.1   \n",
              "10     1821167       427.1       471.5       462.7       644.4   \n",
              "11     3290834       477.1       484.5       453.1       429.7   \n",
              "12      709071       461.1       459.1       520.7       634.1   \n",
              "13     2090564       479.5       575.0       521.2       554.8   \n",
              "14      931132       480.6       632.0       571.3       735.0   \n",
              "15     3228381         NaN       385.9       403.6         NaN   \n",
              "16     1649202         NaN         NaN         NaN         NaN   \n",
              "17      780863       459.1       559.6       593.5       644.7   \n",
              "18      379074       556.9       509.9       562.6       445.5   \n",
              "19     3371707       504.2       509.6       520.9       634.2   \n",
              "\n",
              "    NU_NOTA_REDACAO  IN_TREINEIRO TP_SEXO  TP_ESCOLA  TP_COR_RACA SG_UF_PROVA  \n",
              "0             740.0             0       F          2            1          MA  \n",
              "1             480.0             0       F          2            2          MT  \n",
              "2             620.0             0       F          2            1          SP  \n",
              "3               NaN             1       F          1            1          DF  \n",
              "4             720.0             0       M          2            1          PE  \n",
              "5               NaN             0       F          1            1          SP  \n",
              "6             660.0             0       F          1            3          BA  \n",
              "7               NaN             0       F          1            3          AM  \n",
              "8             580.0             0       M          1            1          RS  \n",
              "9             580.0             0       M          1            3          MA  \n",
              "10            500.0             0       F          2            1          SP  \n",
              "11            680.0             1       F          1            0          PB  \n",
              "12            700.0             0       F          2            1          BA  \n",
              "13            920.0             0       F          1            3          RJ  \n",
              "14            800.0             0       M          3            1          RJ  \n",
              "15            660.0             1       M          1            1          MG  \n",
              "16              NaN             0       M          2            1          PI  \n",
              "17            660.0             1       F          1            1          SP  \n",
              "18            580.0             0       F          1            3          DF  \n",
              "19            560.0             1       F          1            3          DF  "
            ],
            "text/html": [
              "\n",
              "  <div id=\"df-9c377d76-4a57-42fd-a594-0f936bb1154a\" class=\"colab-df-container\">\n",
              "    <div>\n",
              "<style scoped>\n",
              "    .dataframe tbody tr th:only-of-type {\n",
              "        vertical-align: middle;\n",
              "    }\n",
              "\n",
              "    .dataframe tbody tr th {\n",
              "        vertical-align: top;\n",
              "    }\n",
              "\n",
              "    .dataframe thead th {\n",
              "        text-align: right;\n",
              "    }\n",
              "</style>\n",
              "<table border=\"1\" class=\"dataframe\">\n",
              "  <thead>\n",
              "    <tr style=\"text-align: right;\">\n",
              "      <th></th>\n",
              "      <th>Unnamed: 0</th>\n",
              "      <th>NU_NOTA_CN</th>\n",
              "      <th>NU_NOTA_CH</th>\n",
              "      <th>NU_NOTA_LC</th>\n",
              "      <th>NU_NOTA_MT</th>\n",
              "      <th>NU_NOTA_REDACAO</th>\n",
              "      <th>IN_TREINEIRO</th>\n",
              "      <th>TP_SEXO</th>\n",
              "      <th>TP_ESCOLA</th>\n",
              "      <th>TP_COR_RACA</th>\n",
              "      <th>SG_UF_PROVA</th>\n",
              "    </tr>\n",
              "  </thead>\n",
              "  <tbody>\n",
              "    <tr>\n",
              "      <th>0</th>\n",
              "      <td>2401255</td>\n",
              "      <td>441.9</td>\n",
              "      <td>477.6</td>\n",
              "      <td>424.9</td>\n",
              "      <td>436.3</td>\n",
              "      <td>740.0</td>\n",
              "      <td>0</td>\n",
              "      <td>F</td>\n",
              "      <td>2</td>\n",
              "      <td>1</td>\n",
              "      <td>MA</td>\n",
              "    </tr>\n",
              "    <tr>\n",
              "      <th>1</th>\n",
              "      <td>3283840</td>\n",
              "      <td>415.9</td>\n",
              "      <td>490.0</td>\n",
              "      <td>300.0</td>\n",
              "      <td>396.8</td>\n",
              "      <td>480.0</td>\n",
              "      <td>0</td>\n",
              "      <td>F</td>\n",
              "      <td>2</td>\n",
              "      <td>2</td>\n",
              "      <td>MT</td>\n",
              "    </tr>\n",
              "    <tr>\n",
              "      <th>2</th>\n",
              "      <td>1745004</td>\n",
              "      <td>403.0</td>\n",
              "      <td>371.8</td>\n",
              "      <td>460.2</td>\n",
              "      <td>411.0</td>\n",
              "      <td>620.0</td>\n",
              "      <td>0</td>\n",
              "      <td>F</td>\n",
              "      <td>2</td>\n",
              "      <td>1</td>\n",
              "      <td>SP</td>\n",
              "    </tr>\n",
              "    <tr>\n",
              "      <th>3</th>\n",
              "      <td>2781081</td>\n",
              "      <td>NaN</td>\n",
              "      <td>NaN</td>\n",
              "      <td>NaN</td>\n",
              "      <td>NaN</td>\n",
              "      <td>NaN</td>\n",
              "      <td>1</td>\n",
              "      <td>F</td>\n",
              "      <td>1</td>\n",
              "      <td>1</td>\n",
              "      <td>DF</td>\n",
              "    </tr>\n",
              "    <tr>\n",
              "      <th>4</th>\n",
              "      <td>1712844</td>\n",
              "      <td>466.3</td>\n",
              "      <td>545.3</td>\n",
              "      <td>548.1</td>\n",
              "      <td>486.9</td>\n",
              "      <td>720.0</td>\n",
              "      <td>0</td>\n",
              "      <td>M</td>\n",
              "      <td>2</td>\n",
              "      <td>1</td>\n",
              "      <td>PE</td>\n",
              "    </tr>\n",
              "    <tr>\n",
              "      <th>5</th>\n",
              "      <td>839510</td>\n",
              "      <td>NaN</td>\n",
              "      <td>NaN</td>\n",
              "      <td>NaN</td>\n",
              "      <td>NaN</td>\n",
              "      <td>NaN</td>\n",
              "      <td>0</td>\n",
              "      <td>F</td>\n",
              "      <td>1</td>\n",
              "      <td>1</td>\n",
              "      <td>SP</td>\n",
              "    </tr>\n",
              "    <tr>\n",
              "      <th>6</th>\n",
              "      <td>775495</td>\n",
              "      <td>NaN</td>\n",
              "      <td>440.0</td>\n",
              "      <td>533.4</td>\n",
              "      <td>NaN</td>\n",
              "      <td>660.0</td>\n",
              "      <td>0</td>\n",
              "      <td>F</td>\n",
              "      <td>1</td>\n",
              "      <td>3</td>\n",
              "      <td>BA</td>\n",
              "    </tr>\n",
              "    <tr>\n",
              "      <th>7</th>\n",
              "      <td>1348409</td>\n",
              "      <td>NaN</td>\n",
              "      <td>NaN</td>\n",
              "      <td>NaN</td>\n",
              "      <td>NaN</td>\n",
              "      <td>NaN</td>\n",
              "      <td>0</td>\n",
              "      <td>F</td>\n",
              "      <td>1</td>\n",
              "      <td>3</td>\n",
              "      <td>AM</td>\n",
              "    </tr>\n",
              "    <tr>\n",
              "      <th>8</th>\n",
              "      <td>3040163</td>\n",
              "      <td>569.4</td>\n",
              "      <td>428.9</td>\n",
              "      <td>337.1</td>\n",
              "      <td>704.6</td>\n",
              "      <td>580.0</td>\n",
              "      <td>0</td>\n",
              "      <td>M</td>\n",
              "      <td>1</td>\n",
              "      <td>1</td>\n",
              "      <td>RS</td>\n",
              "    </tr>\n",
              "    <tr>\n",
              "      <th>9</th>\n",
              "      <td>329325</td>\n",
              "      <td>460.7</td>\n",
              "      <td>515.8</td>\n",
              "      <td>475.2</td>\n",
              "      <td>454.1</td>\n",
              "      <td>580.0</td>\n",
              "      <td>0</td>\n",
              "      <td>M</td>\n",
              "      <td>1</td>\n",
              "      <td>3</td>\n",
              "      <td>MA</td>\n",
              "    </tr>\n",
              "    <tr>\n",
              "      <th>10</th>\n",
              "      <td>1821167</td>\n",
              "      <td>427.1</td>\n",
              "      <td>471.5</td>\n",
              "      <td>462.7</td>\n",
              "      <td>644.4</td>\n",
              "      <td>500.0</td>\n",
              "      <td>0</td>\n",
              "      <td>F</td>\n",
              "      <td>2</td>\n",
              "      <td>1</td>\n",
              "      <td>SP</td>\n",
              "    </tr>\n",
              "    <tr>\n",
              "      <th>11</th>\n",
              "      <td>3290834</td>\n",
              "      <td>477.1</td>\n",
              "      <td>484.5</td>\n",
              "      <td>453.1</td>\n",
              "      <td>429.7</td>\n",
              "      <td>680.0</td>\n",
              "      <td>1</td>\n",
              "      <td>F</td>\n",
              "      <td>1</td>\n",
              "      <td>0</td>\n",
              "      <td>PB</td>\n",
              "    </tr>\n",
              "    <tr>\n",
              "      <th>12</th>\n",
              "      <td>709071</td>\n",
              "      <td>461.1</td>\n",
              "      <td>459.1</td>\n",
              "      <td>520.7</td>\n",
              "      <td>634.1</td>\n",
              "      <td>700.0</td>\n",
              "      <td>0</td>\n",
              "      <td>F</td>\n",
              "      <td>2</td>\n",
              "      <td>1</td>\n",
              "      <td>BA</td>\n",
              "    </tr>\n",
              "    <tr>\n",
              "      <th>13</th>\n",
              "      <td>2090564</td>\n",
              "      <td>479.5</td>\n",
              "      <td>575.0</td>\n",
              "      <td>521.2</td>\n",
              "      <td>554.8</td>\n",
              "      <td>920.0</td>\n",
              "      <td>0</td>\n",
              "      <td>F</td>\n",
              "      <td>1</td>\n",
              "      <td>3</td>\n",
              "      <td>RJ</td>\n",
              "    </tr>\n",
              "    <tr>\n",
              "      <th>14</th>\n",
              "      <td>931132</td>\n",
              "      <td>480.6</td>\n",
              "      <td>632.0</td>\n",
              "      <td>571.3</td>\n",
              "      <td>735.0</td>\n",
              "      <td>800.0</td>\n",
              "      <td>0</td>\n",
              "      <td>M</td>\n",
              "      <td>3</td>\n",
              "      <td>1</td>\n",
              "      <td>RJ</td>\n",
              "    </tr>\n",
              "    <tr>\n",
              "      <th>15</th>\n",
              "      <td>3228381</td>\n",
              "      <td>NaN</td>\n",
              "      <td>385.9</td>\n",
              "      <td>403.6</td>\n",
              "      <td>NaN</td>\n",
              "      <td>660.0</td>\n",
              "      <td>1</td>\n",
              "      <td>M</td>\n",
              "      <td>1</td>\n",
              "      <td>1</td>\n",
              "      <td>MG</td>\n",
              "    </tr>\n",
              "    <tr>\n",
              "      <th>16</th>\n",
              "      <td>1649202</td>\n",
              "      <td>NaN</td>\n",
              "      <td>NaN</td>\n",
              "      <td>NaN</td>\n",
              "      <td>NaN</td>\n",
              "      <td>NaN</td>\n",
              "      <td>0</td>\n",
              "      <td>M</td>\n",
              "      <td>2</td>\n",
              "      <td>1</td>\n",
              "      <td>PI</td>\n",
              "    </tr>\n",
              "    <tr>\n",
              "      <th>17</th>\n",
              "      <td>780863</td>\n",
              "      <td>459.1</td>\n",
              "      <td>559.6</td>\n",
              "      <td>593.5</td>\n",
              "      <td>644.7</td>\n",
              "      <td>660.0</td>\n",
              "      <td>1</td>\n",
              "      <td>F</td>\n",
              "      <td>1</td>\n",
              "      <td>1</td>\n",
              "      <td>SP</td>\n",
              "    </tr>\n",
              "    <tr>\n",
              "      <th>18</th>\n",
              "      <td>379074</td>\n",
              "      <td>556.9</td>\n",
              "      <td>509.9</td>\n",
              "      <td>562.6</td>\n",
              "      <td>445.5</td>\n",
              "      <td>580.0</td>\n",
              "      <td>0</td>\n",
              "      <td>F</td>\n",
              "      <td>1</td>\n",
              "      <td>3</td>\n",
              "      <td>DF</td>\n",
              "    </tr>\n",
              "    <tr>\n",
              "      <th>19</th>\n",
              "      <td>3371707</td>\n",
              "      <td>504.2</td>\n",
              "      <td>509.6</td>\n",
              "      <td>520.9</td>\n",
              "      <td>634.2</td>\n",
              "      <td>560.0</td>\n",
              "      <td>1</td>\n",
              "      <td>F</td>\n",
              "      <td>1</td>\n",
              "      <td>3</td>\n",
              "      <td>DF</td>\n",
              "    </tr>\n",
              "  </tbody>\n",
              "</table>\n",
              "</div>\n",
              "    <div class=\"colab-df-buttons\">\n",
              "\n",
              "  <div class=\"colab-df-container\">\n",
              "    <button class=\"colab-df-convert\" onclick=\"convertToInteractive('df-9c377d76-4a57-42fd-a594-0f936bb1154a')\"\n",
              "            title=\"Convert this dataframe to an interactive table.\"\n",
              "            style=\"display:none;\">\n",
              "\n",
              "  <svg xmlns=\"http://www.w3.org/2000/svg\" height=\"24px\" viewBox=\"0 -960 960 960\">\n",
              "    <path d=\"M120-120v-720h720v720H120Zm60-500h600v-160H180v160Zm220 220h160v-160H400v160Zm0 220h160v-160H400v160ZM180-400h160v-160H180v160Zm440 0h160v-160H620v160ZM180-180h160v-160H180v160Zm440 0h160v-160H620v160Z\"/>\n",
              "  </svg>\n",
              "    </button>\n",
              "\n",
              "  <style>\n",
              "    .colab-df-container {\n",
              "      display:flex;\n",
              "      gap: 12px;\n",
              "    }\n",
              "\n",
              "    .colab-df-convert {\n",
              "      background-color: #E8F0FE;\n",
              "      border: none;\n",
              "      border-radius: 50%;\n",
              "      cursor: pointer;\n",
              "      display: none;\n",
              "      fill: #1967D2;\n",
              "      height: 32px;\n",
              "      padding: 0 0 0 0;\n",
              "      width: 32px;\n",
              "    }\n",
              "\n",
              "    .colab-df-convert:hover {\n",
              "      background-color: #E2EBFA;\n",
              "      box-shadow: 0px 1px 2px rgba(60, 64, 67, 0.3), 0px 1px 3px 1px rgba(60, 64, 67, 0.15);\n",
              "      fill: #174EA6;\n",
              "    }\n",
              "\n",
              "    .colab-df-buttons div {\n",
              "      margin-bottom: 4px;\n",
              "    }\n",
              "\n",
              "    [theme=dark] .colab-df-convert {\n",
              "      background-color: #3B4455;\n",
              "      fill: #D2E3FC;\n",
              "    }\n",
              "\n",
              "    [theme=dark] .colab-df-convert:hover {\n",
              "      background-color: #434B5C;\n",
              "      box-shadow: 0px 1px 3px 1px rgba(0, 0, 0, 0.15);\n",
              "      filter: drop-shadow(0px 1px 2px rgba(0, 0, 0, 0.3));\n",
              "      fill: #FFFFFF;\n",
              "    }\n",
              "  </style>\n",
              "\n",
              "    <script>\n",
              "      const buttonEl =\n",
              "        document.querySelector('#df-9c377d76-4a57-42fd-a594-0f936bb1154a button.colab-df-convert');\n",
              "      buttonEl.style.display =\n",
              "        google.colab.kernel.accessAllowed ? 'block' : 'none';\n",
              "\n",
              "      async function convertToInteractive(key) {\n",
              "        const element = document.querySelector('#df-9c377d76-4a57-42fd-a594-0f936bb1154a');\n",
              "        const dataTable =\n",
              "          await google.colab.kernel.invokeFunction('convertToInteractive',\n",
              "                                                    [key], {});\n",
              "        if (!dataTable) return;\n",
              "\n",
              "        const docLinkHtml = 'Like what you see? Visit the ' +\n",
              "          '<a target=\"_blank\" href=https://colab.research.google.com/notebooks/data_table.ipynb>data table notebook</a>'\n",
              "          + ' to learn more about interactive tables.';\n",
              "        element.innerHTML = '';\n",
              "        dataTable['output_type'] = 'display_data';\n",
              "        await google.colab.output.renderOutput(dataTable, element);\n",
              "        const docLink = document.createElement('div');\n",
              "        docLink.innerHTML = docLinkHtml;\n",
              "        element.appendChild(docLink);\n",
              "      }\n",
              "    </script>\n",
              "  </div>\n",
              "\n",
              "\n",
              "<div id=\"df-f3662fcf-2c2a-4520-98cd-54e39dd93e92\">\n",
              "  <button class=\"colab-df-quickchart\" onclick=\"quickchart('df-f3662fcf-2c2a-4520-98cd-54e39dd93e92')\"\n",
              "            title=\"Suggest charts\"\n",
              "            style=\"display:none;\">\n",
              "\n",
              "<svg xmlns=\"http://www.w3.org/2000/svg\" height=\"24px\"viewBox=\"0 0 24 24\"\n",
              "     width=\"24px\">\n",
              "    <g>\n",
              "        <path d=\"M19 3H5c-1.1 0-2 .9-2 2v14c0 1.1.9 2 2 2h14c1.1 0 2-.9 2-2V5c0-1.1-.9-2-2-2zM9 17H7v-7h2v7zm4 0h-2V7h2v10zm4 0h-2v-4h2v4z\"/>\n",
              "    </g>\n",
              "</svg>\n",
              "  </button>\n",
              "\n",
              "<style>\n",
              "  .colab-df-quickchart {\n",
              "      --bg-color: #E8F0FE;\n",
              "      --fill-color: #1967D2;\n",
              "      --hover-bg-color: #E2EBFA;\n",
              "      --hover-fill-color: #174EA6;\n",
              "      --disabled-fill-color: #AAA;\n",
              "      --disabled-bg-color: #DDD;\n",
              "  }\n",
              "\n",
              "  [theme=dark] .colab-df-quickchart {\n",
              "      --bg-color: #3B4455;\n",
              "      --fill-color: #D2E3FC;\n",
              "      --hover-bg-color: #434B5C;\n",
              "      --hover-fill-color: #FFFFFF;\n",
              "      --disabled-bg-color: #3B4455;\n",
              "      --disabled-fill-color: #666;\n",
              "  }\n",
              "\n",
              "  .colab-df-quickchart {\n",
              "    background-color: var(--bg-color);\n",
              "    border: none;\n",
              "    border-radius: 50%;\n",
              "    cursor: pointer;\n",
              "    display: none;\n",
              "    fill: var(--fill-color);\n",
              "    height: 32px;\n",
              "    padding: 0;\n",
              "    width: 32px;\n",
              "  }\n",
              "\n",
              "  .colab-df-quickchart:hover {\n",
              "    background-color: var(--hover-bg-color);\n",
              "    box-shadow: 0 1px 2px rgba(60, 64, 67, 0.3), 0 1px 3px 1px rgba(60, 64, 67, 0.15);\n",
              "    fill: var(--button-hover-fill-color);\n",
              "  }\n",
              "\n",
              "  .colab-df-quickchart-complete:disabled,\n",
              "  .colab-df-quickchart-complete:disabled:hover {\n",
              "    background-color: var(--disabled-bg-color);\n",
              "    fill: var(--disabled-fill-color);\n",
              "    box-shadow: none;\n",
              "  }\n",
              "\n",
              "  .colab-df-spinner {\n",
              "    border: 2px solid var(--fill-color);\n",
              "    border-color: transparent;\n",
              "    border-bottom-color: var(--fill-color);\n",
              "    animation:\n",
              "      spin 1s steps(1) infinite;\n",
              "  }\n",
              "\n",
              "  @keyframes spin {\n",
              "    0% {\n",
              "      border-color: transparent;\n",
              "      border-bottom-color: var(--fill-color);\n",
              "      border-left-color: var(--fill-color);\n",
              "    }\n",
              "    20% {\n",
              "      border-color: transparent;\n",
              "      border-left-color: var(--fill-color);\n",
              "      border-top-color: var(--fill-color);\n",
              "    }\n",
              "    30% {\n",
              "      border-color: transparent;\n",
              "      border-left-color: var(--fill-color);\n",
              "      border-top-color: var(--fill-color);\n",
              "      border-right-color: var(--fill-color);\n",
              "    }\n",
              "    40% {\n",
              "      border-color: transparent;\n",
              "      border-right-color: var(--fill-color);\n",
              "      border-top-color: var(--fill-color);\n",
              "    }\n",
              "    60% {\n",
              "      border-color: transparent;\n",
              "      border-right-color: var(--fill-color);\n",
              "    }\n",
              "    80% {\n",
              "      border-color: transparent;\n",
              "      border-right-color: var(--fill-color);\n",
              "      border-bottom-color: var(--fill-color);\n",
              "    }\n",
              "    90% {\n",
              "      border-color: transparent;\n",
              "      border-bottom-color: var(--fill-color);\n",
              "    }\n",
              "  }\n",
              "</style>\n",
              "\n",
              "  <script>\n",
              "    async function quickchart(key) {\n",
              "      const quickchartButtonEl =\n",
              "        document.querySelector('#' + key + ' button');\n",
              "      quickchartButtonEl.disabled = true;  // To prevent multiple clicks.\n",
              "      quickchartButtonEl.classList.add('colab-df-spinner');\n",
              "      try {\n",
              "        const charts = await google.colab.kernel.invokeFunction(\n",
              "            'suggestCharts', [key], {});\n",
              "      } catch (error) {\n",
              "        console.error('Error during call to suggestCharts:', error);\n",
              "      }\n",
              "      quickchartButtonEl.classList.remove('colab-df-spinner');\n",
              "      quickchartButtonEl.classList.add('colab-df-quickchart-complete');\n",
              "    }\n",
              "    (() => {\n",
              "      let quickchartButtonEl =\n",
              "        document.querySelector('#df-f3662fcf-2c2a-4520-98cd-54e39dd93e92 button');\n",
              "      quickchartButtonEl.style.display =\n",
              "        google.colab.kernel.accessAllowed ? 'block' : 'none';\n",
              "    })();\n",
              "  </script>\n",
              "</div>\n",
              "\n",
              "    </div>\n",
              "  </div>\n"
            ],
            "application/vnd.google.colaboratory.intrinsic+json": {
              "type": "dataframe",
              "variable_name": "df",
              "summary": "{\n  \"name\": \"df\",\n  \"rows\": 10000,\n  \"fields\": [\n    {\n      \"column\": \"Unnamed: 0\",\n      \"properties\": {\n        \"dtype\": \"number\",\n        \"std\": 998818,\n        \"min\": 122,\n        \"max\": 3475564,\n        \"num_unique_values\": 10000,\n        \"samples\": [\n          55600,\n          733359,\n          1154546\n        ],\n        \"semantic_type\": \"\",\n        \"description\": \"\"\n      }\n    },\n    {\n      \"column\": \"NU_NOTA_CN\",\n      \"properties\": {\n        \"dtype\": \"number\",\n        \"std\": 72.93660226166817,\n        \"min\": 0.0,\n        \"max\": 796.7,\n        \"num_unique_values\": 2517,\n        \"samples\": [\n          451.8,\n          579.8,\n          501.1\n        ],\n        \"semantic_type\": \"\",\n        \"description\": \"\"\n      }\n    },\n    {\n      \"column\": \"NU_NOTA_CH\",\n      \"properties\": {\n        \"dtype\": \"number\",\n        \"std\": 82.24507603040934,\n        \"min\": 0.0,\n        \"max\": 775.4,\n        \"num_unique_values\": 2847,\n        \"samples\": [\n          483.9,\n          502.0,\n          367.6\n        ],\n        \"semantic_type\": \"\",\n        \"description\": \"\"\n      }\n    },\n    {\n      \"column\": \"NU_NOTA_LC\",\n      \"properties\": {\n        \"dtype\": \"number\",\n        \"std\": 76.63970037167147,\n        \"min\": 0.0,\n        \"max\": 742.2,\n        \"num_unique_values\": 2745,\n        \"samples\": [\n          456.4,\n          445.9,\n          516.6\n        ],\n        \"semantic_type\": \"\",\n        \"description\": \"\"\n      }\n    },\n    {\n      \"column\": \"NU_NOTA_MT\",\n      \"properties\": {\n        \"dtype\": \"number\",\n        \"std\": 116.26587746003374,\n        \"min\": 0.0,\n        \"max\": 973.3,\n        \"num_unique_values\": 3377,\n        \"samples\": [\n          655.4,\n          904.9,\n          467.5\n        ],\n        \"semantic_type\": \"\",\n        \"description\": \"\"\n      }\n    },\n    {\n      \"column\": \"NU_NOTA_REDACAO\",\n      \"properties\": {\n        \"dtype\": \"number\",\n        \"std\": 209.66997558319292,\n        \"min\": 0.0,\n        \"max\": 980.0,\n        \"num_unique_values\": 45,\n        \"samples\": [\n          60.0,\n          460.0,\n          900.0\n        ],\n        \"semantic_type\": \"\",\n        \"description\": \"\"\n      }\n    },\n    {\n      \"column\": \"IN_TREINEIRO\",\n      \"properties\": {\n        \"dtype\": \"number\",\n        \"std\": 0,\n        \"min\": 0,\n        \"max\": 1,\n        \"num_unique_values\": 2,\n        \"samples\": [\n          1,\n          0\n        ],\n        \"semantic_type\": \"\",\n        \"description\": \"\"\n      }\n    },\n    {\n      \"column\": \"TP_SEXO\",\n      \"properties\": {\n        \"dtype\": \"category\",\n        \"num_unique_values\": 2,\n        \"samples\": [\n          \"M\",\n          \"F\"\n        ],\n        \"semantic_type\": \"\",\n        \"description\": \"\"\n      }\n    },\n    {\n      \"column\": \"TP_ESCOLA\",\n      \"properties\": {\n        \"dtype\": \"number\",\n        \"std\": 0,\n        \"min\": 1,\n        \"max\": 3,\n        \"num_unique_values\": 3,\n        \"samples\": [\n          2,\n          1\n        ],\n        \"semantic_type\": \"\",\n        \"description\": \"\"\n      }\n    },\n    {\n      \"column\": \"TP_COR_RACA\",\n      \"properties\": {\n        \"dtype\": \"number\",\n        \"std\": 1,\n        \"min\": 0,\n        \"max\": 5,\n        \"num_unique_values\": 6,\n        \"samples\": [\n          1,\n          2\n        ],\n        \"semantic_type\": \"\",\n        \"description\": \"\"\n      }\n    },\n    {\n      \"column\": \"SG_UF_PROVA\",\n      \"properties\": {\n        \"dtype\": \"category\",\n        \"num_unique_values\": 27,\n        \"samples\": [\n          \"PB\",\n          \"PA\"\n        ],\n        \"semantic_type\": \"\",\n        \"description\": \"\"\n      }\n    }\n  ]\n}"
            }
          },
          "metadata": {},
          "execution_count": 61
        }
      ]
    },
    {
      "cell_type": "code",
      "source": [
        "#selecionar e extrair os registros específicos\n",
        "colunas = ['NU_NOTA_CN', 'NU_NOTA_CH', 'NU_NOTA_LC', 'NU_NOTA_MT', 'NU_NOTA_REDACAO', 'TP_SEXO', 'TP_ESCOLA', 'TP_COR_RACA','SG_UF_PROVA']\n",
        "df_selecionado = df[colunas]\n",
        "print(df_selecionado.head(20))"
      ],
      "metadata": {
        "colab": {
          "base_uri": "https://localhost:8080/"
        },
        "id": "Tr7Hw42FL-So",
        "outputId": "667ee4ce-bfa7-4802-cebf-5b05c4d6aa8c"
      },
      "execution_count": 62,
      "outputs": [
        {
          "output_type": "stream",
          "name": "stdout",
          "text": [
            "    NU_NOTA_CN  NU_NOTA_CH  NU_NOTA_LC  NU_NOTA_MT  NU_NOTA_REDACAO TP_SEXO  \\\n",
            "0        441.9       477.6       424.9       436.3            740.0       F   \n",
            "1        415.9       490.0       300.0       396.8            480.0       F   \n",
            "2        403.0       371.8       460.2       411.0            620.0       F   \n",
            "3          NaN         NaN         NaN         NaN              NaN       F   \n",
            "4        466.3       545.3       548.1       486.9            720.0       M   \n",
            "5          NaN         NaN         NaN         NaN              NaN       F   \n",
            "6          NaN       440.0       533.4         NaN            660.0       F   \n",
            "7          NaN         NaN         NaN         NaN              NaN       F   \n",
            "8        569.4       428.9       337.1       704.6            580.0       M   \n",
            "9        460.7       515.8       475.2       454.1            580.0       M   \n",
            "10       427.1       471.5       462.7       644.4            500.0       F   \n",
            "11       477.1       484.5       453.1       429.7            680.0       F   \n",
            "12       461.1       459.1       520.7       634.1            700.0       F   \n",
            "13       479.5       575.0       521.2       554.8            920.0       F   \n",
            "14       480.6       632.0       571.3       735.0            800.0       M   \n",
            "15         NaN       385.9       403.6         NaN            660.0       M   \n",
            "16         NaN         NaN         NaN         NaN              NaN       M   \n",
            "17       459.1       559.6       593.5       644.7            660.0       F   \n",
            "18       556.9       509.9       562.6       445.5            580.0       F   \n",
            "19       504.2       509.6       520.9       634.2            560.0       F   \n",
            "\n",
            "    TP_ESCOLA  TP_COR_RACA SG_UF_PROVA  \n",
            "0           2            1          MA  \n",
            "1           2            2          MT  \n",
            "2           2            1          SP  \n",
            "3           1            1          DF  \n",
            "4           2            1          PE  \n",
            "5           1            1          SP  \n",
            "6           1            3          BA  \n",
            "7           1            3          AM  \n",
            "8           1            1          RS  \n",
            "9           1            3          MA  \n",
            "10          2            1          SP  \n",
            "11          1            0          PB  \n",
            "12          2            1          BA  \n",
            "13          1            3          RJ  \n",
            "14          3            1          RJ  \n",
            "15          1            1          MG  \n",
            "16          2            1          PI  \n",
            "17          1            1          SP  \n",
            "18          1            3          DF  \n",
            "19          1            3          DF  \n"
          ]
        }
      ]
    },
    {
      "cell_type": "code",
      "source": [
        "#Visualizar os Dados Ausentes ou Nulos(Sujos)\n",
        "print(df_selecionado[df_selecionado.isnull().any(axis=1)].head(20))"
      ],
      "metadata": {
        "colab": {
          "base_uri": "https://localhost:8080/"
        },
        "id": "uY6TbqMCPcJl",
        "outputId": "44d89eee-eedd-4a6d-e9b1-1cc29fffdf82"
      },
      "execution_count": 63,
      "outputs": [
        {
          "output_type": "stream",
          "name": "stdout",
          "text": [
            "    NU_NOTA_CN  NU_NOTA_CH  NU_NOTA_LC  NU_NOTA_MT  NU_NOTA_REDACAO TP_SEXO  \\\n",
            "3          NaN         NaN         NaN         NaN              NaN       F   \n",
            "5          NaN         NaN         NaN         NaN              NaN       F   \n",
            "6          NaN       440.0       533.4         NaN            660.0       F   \n",
            "7          NaN         NaN         NaN         NaN              NaN       F   \n",
            "15         NaN       385.9       403.6         NaN            660.0       M   \n",
            "16         NaN         NaN         NaN         NaN              NaN       M   \n",
            "20         NaN         NaN         NaN         NaN              NaN       F   \n",
            "22         NaN         NaN         NaN         NaN              NaN       M   \n",
            "24         NaN         NaN         NaN         NaN              NaN       F   \n",
            "26         NaN         NaN         NaN         NaN              NaN       M   \n",
            "29         NaN         NaN         NaN         NaN              NaN       F   \n",
            "31         NaN         NaN         NaN         NaN              NaN       F   \n",
            "34         NaN         NaN         NaN         NaN              NaN       F   \n",
            "40         NaN         NaN         NaN         NaN              NaN       F   \n",
            "41         NaN         NaN         NaN         NaN              NaN       F   \n",
            "42         NaN         NaN         NaN         NaN              NaN       F   \n",
            "48         NaN         NaN         NaN         NaN              NaN       F   \n",
            "50         NaN         NaN         NaN         NaN              NaN       M   \n",
            "54         NaN         NaN         NaN         NaN              NaN       M   \n",
            "55         NaN         NaN         NaN         NaN              NaN       F   \n",
            "\n",
            "    TP_ESCOLA  TP_COR_RACA SG_UF_PROVA  \n",
            "3           1            1          DF  \n",
            "5           1            1          SP  \n",
            "6           1            3          BA  \n",
            "7           1            3          AM  \n",
            "15          1            1          MG  \n",
            "16          2            1          PI  \n",
            "20          1            3          SE  \n",
            "22          2            1          PA  \n",
            "24          3            1          PR  \n",
            "26          1            3          RN  \n",
            "29          1            1          SP  \n",
            "31          1            3          PI  \n",
            "34          1            1          SC  \n",
            "40          1            1          ES  \n",
            "41          1            1          CE  \n",
            "42          1            1          RN  \n",
            "48          1            3          DF  \n",
            "50          1            1          AC  \n",
            "54          1            1          RN  \n",
            "55          1            2          TO  \n"
          ]
        }
      ]
    },
    {
      "cell_type": "code",
      "source": [
        "#Limpeza dos Dados Ausentes(Sujos)\n",
        "print(df_selecionado.dropna().head(20))"
      ],
      "metadata": {
        "colab": {
          "base_uri": "https://localhost:8080/"
        },
        "id": "G_pNoghxQI2J",
        "outputId": "cd6ecba2-170d-463e-a0ea-123e9639a779"
      },
      "execution_count": 65,
      "outputs": [
        {
          "output_type": "stream",
          "name": "stdout",
          "text": [
            "    NU_NOTA_CN  NU_NOTA_CH  NU_NOTA_LC  NU_NOTA_MT  NU_NOTA_REDACAO TP_SEXO  \\\n",
            "0        441.9       477.6       424.9       436.3            740.0       F   \n",
            "1        415.9       490.0       300.0       396.8            480.0       F   \n",
            "2        403.0       371.8       460.2       411.0            620.0       F   \n",
            "4        466.3       545.3       548.1       486.9            720.0       M   \n",
            "8        569.4       428.9       337.1       704.6            580.0       M   \n",
            "9        460.7       515.8       475.2       454.1            580.0       M   \n",
            "10       427.1       471.5       462.7       644.4            500.0       F   \n",
            "11       477.1       484.5       453.1       429.7            680.0       F   \n",
            "12       461.1       459.1       520.7       634.1            700.0       F   \n",
            "13       479.5       575.0       521.2       554.8            920.0       F   \n",
            "14       480.6       632.0       571.3       735.0            800.0       M   \n",
            "17       459.1       559.6       593.5       644.7            660.0       F   \n",
            "18       556.9       509.9       562.6       445.5            580.0       F   \n",
            "19       504.2       509.6       520.9       634.2            560.0       F   \n",
            "21       540.2       504.7       587.5       581.8            800.0       F   \n",
            "23       489.1       525.6       509.5       480.9            680.0       F   \n",
            "25       606.5       637.4       644.5       781.8            860.0       M   \n",
            "27       431.2       458.5       529.9       598.6            580.0       M   \n",
            "28       455.5       517.4       473.9       394.8            620.0       F   \n",
            "30       704.7       623.0       623.1       611.5            960.0       F   \n",
            "\n",
            "    TP_ESCOLA  TP_COR_RACA SG_UF_PROVA  \n",
            "0           2            1          MA  \n",
            "1           2            2          MT  \n",
            "2           2            1          SP  \n",
            "4           2            1          PE  \n",
            "8           1            1          RS  \n",
            "9           1            3          MA  \n",
            "10          2            1          SP  \n",
            "11          1            0          PB  \n",
            "12          2            1          BA  \n",
            "13          1            3          RJ  \n",
            "14          3            1          RJ  \n",
            "17          1            1          SP  \n",
            "18          1            3          DF  \n",
            "19          1            3          DF  \n",
            "21          2            1          SP  \n",
            "23          1            3          CE  \n",
            "25          3            1          DF  \n",
            "27          2            3          CE  \n",
            "28          1            3          MG  \n",
            "30          1            2          SP  \n"
          ]
        }
      ]
    },
    {
      "cell_type": "code",
      "source": [
        "#Realizar análise simples dos dados\n",
        "print(df_selecionado.describe().applymap(lambda x: f\"{x:.2f}\"))"
      ],
      "metadata": {
        "colab": {
          "base_uri": "https://localhost:8080/"
        },
        "id": "cLZsxJyySXg7",
        "outputId": "4bd34461-a884-456d-dcb7-2014a59db1be"
      },
      "execution_count": 6,
      "outputs": [
        {
          "output_type": "stream",
          "name": "stdout",
          "text": [
            "      NU_NOTA_CN NU_NOTA_CH NU_NOTA_LC NU_NOTA_MT NU_NOTA_REDACAO TP_ESCOLA  \\\n",
            "count    6714.00    7078.00    7078.00    6714.00         7078.00  10000.00   \n",
            "mean      496.33     527.27     518.59     543.66          622.54      1.43   \n",
            "std        72.94      82.25      76.64     116.27          209.67      0.60   \n",
            "min         0.00       0.00       0.00       0.00            0.00      1.00   \n",
            "25%       440.40     478.42     470.40     448.38          540.00      1.00   \n",
            "50%       485.25     531.60     526.50     533.30          620.00      1.00   \n",
            "75%       544.60     581.18     573.70     622.77          760.00      2.00   \n",
            "max       796.70     775.40     742.20     973.30          980.00      3.00   \n",
            "\n",
            "      TP_COR_RACA  \n",
            "count    10000.00  \n",
            "mean         2.02  \n",
            "std          1.01  \n",
            "min          0.00  \n",
            "25%          1.00  \n",
            "50%          2.00  \n",
            "75%          3.00  \n",
            "max          5.00  \n"
          ]
        },
        {
          "output_type": "stream",
          "name": "stderr",
          "text": [
            "<ipython-input-6-b8cef24beace>:2: FutureWarning: DataFrame.applymap has been deprecated. Use DataFrame.map instead.\n",
            "  print(df_selecionado.describe().applymap(lambda x: f\"{x:.2f}\"))\n"
          ]
        }
      ]
    },
    {
      "cell_type": "code",
      "source": [
        "#calcular a média dos valores da coluna NU_NOTA_MT\n",
        "media_nota_matematica = df_selecionado['NU_NOTA_MT'].mean()\n",
        "print(f\"Média das notas do Enem 2022 de Matemática: {media_nota_matematica:.2f}\")"
      ],
      "metadata": {
        "colab": {
          "base_uri": "https://localhost:8080/"
        },
        "id": "_ZWSquhOUYrn",
        "outputId": "4361f31c-8030-402c-83db-148410c3aba4"
      },
      "execution_count": 7,
      "outputs": [
        {
          "output_type": "stream",
          "name": "stdout",
          "text": [
            "Média das notas do Enem 2022 de Matemática: 543.66\n"
          ]
        }
      ]
    },
    {
      "cell_type": "code",
      "source": [
        "#calcular a mediana dos valores da coluna NU_NOTA_MT\n",
        "mediana_nota_matematica = df_selecionado['NU_NOTA_MT'].median()\n",
        "print(f\"Mediana das notas do Enem 2022 de Matemática: {mediana_nota_matematica:.2f} \")"
      ],
      "metadata": {
        "colab": {
          "base_uri": "https://localhost:8080/"
        },
        "id": "9i0C0Q2oX36u",
        "outputId": "c005cd9b-c69c-42df-afff-8b3abf12e912"
      },
      "execution_count": 8,
      "outputs": [
        {
          "output_type": "stream",
          "name": "stdout",
          "text": [
            "Mediana das notas do Enem 2022 de Matemática: 533.30 \n"
          ]
        }
      ]
    },
    {
      "cell_type": "code",
      "source": [
        "moda_por_estado = df_selecionado['SG_UF_PROVA'].mode()[0]\n",
        "print(f\"Estado do Brasil mais frequente na prova: {moda_por_estado}\")"
      ],
      "metadata": {
        "colab": {
          "base_uri": "https://localhost:8080/"
        },
        "id": "my3yFvvdYbCA",
        "outputId": "6fa64513-408e-4558-d62d-b68a9a7cc270"
      },
      "execution_count": 9,
      "outputs": [
        {
          "output_type": "stream",
          "name": "stdout",
          "text": [
            "Estado do Brasil mais frequente na prova: SP\n"
          ]
        }
      ]
    },
    {
      "cell_type": "code",
      "source": [
        "primeiro_quartil = df_selecionado['NU_NOTA_MT'].quantile(0.25)\n",
        "segundo_quartil = df_selecionado['NU_NOTA_MT'].quantile(0.50)\n",
        "terceiro_quartil = df_selecionado['NU_NOTA_MT'].quantile(0.75)\n",
        "print(f\"1° Quartil (Q1): {primeiro_quartil:.2f}\")\n",
        "print(f\"2° Quartil (Q2): {segundo_quartil:.2f}\")\n",
        "print(f\"3° Quartil (Q3): {terceiro_quartil:.2f}\")"
      ],
      "metadata": {
        "colab": {
          "base_uri": "https://localhost:8080/"
        },
        "id": "HH_oKtGbYzR6",
        "outputId": "a79ef096-6d42-4adc-ef54-1019b6831df4"
      },
      "execution_count": 10,
      "outputs": [
        {
          "output_type": "stream",
          "name": "stdout",
          "text": [
            "1° Quartil (Q1): 448.38\n",
            "2° Quartil (Q2): 533.30\n",
            "3° Quartil (Q3): 622.77\n"
          ]
        }
      ]
    },
    {
      "cell_type": "code",
      "source": [
        "estado_participantes = df_selecionado['SG_UF_PROVA'].unique()\n",
        "print(f\"Estado por participantes: {estado_participantes}\")"
      ],
      "metadata": {
        "colab": {
          "base_uri": "https://localhost:8080/"
        },
        "id": "g_FZmpAsZ8bX",
        "outputId": "93f6c1d8-dd43-4fcb-e252-4f4bbc5bdba5"
      },
      "execution_count": 11,
      "outputs": [
        {
          "output_type": "stream",
          "name": "stdout",
          "text": [
            "Estado por participantes: ['MA' 'MT' 'SP' 'DF' 'PE' 'BA' 'AM' 'RS' 'PB' 'RJ' 'MG' 'PI' 'SE' 'PA'\n",
            " 'CE' 'PR' 'RN' 'SC' 'ES' 'AC' 'RO' 'TO' 'AL' 'MS' 'RR' 'GO' 'AP']\n"
          ]
        }
      ]
    },
    {
      "cell_type": "code",
      "source": [
        "estaticas_gerais_MT = df_selecionado['NU_NOTA_MT'].describe().apply(lambda x: f\"{x:.2f}\")\n",
        "print(estaticas_gerais_MT)"
      ],
      "metadata": {
        "colab": {
          "base_uri": "https://localhost:8080/"
        },
        "id": "4TTk6RLZbTiE",
        "outputId": "9621b391-3e18-449c-895a-b415c14b1b31"
      },
      "execution_count": 12,
      "outputs": [
        {
          "output_type": "stream",
          "name": "stdout",
          "text": [
            "count    6714.00\n",
            "mean      543.66\n",
            "std       116.27\n",
            "min         0.00\n",
            "25%       448.38\n",
            "50%       533.30\n",
            "75%       622.77\n",
            "max       973.30\n",
            "Name: NU_NOTA_MT, dtype: object\n"
          ]
        }
      ]
    },
    {
      "cell_type": "markdown",
      "source": [
        "1.Hipótese:Tipo da Escola apresentam desempenho diferente nas provas, com base nas notas de Ciências da Natureza (NU_NOTA_CN),Ciências Humanas(NU_NOTA_CH), Matemática (NU_NOTA_MT), Linguagens e Códigos (NU_NOTA_LC) e Redação (NU_NOTA_REDACAO) entre o TIPO DA ESCOLA(TP_ESCOLA)"
      ],
      "metadata": {
        "id": "mr6xRmitroZa"
      }
    },
    {
      "cell_type": "markdown",
      "source": [
        "**1.Há diferença nas notas de desempenho (como NU_NOTA_CN, NU_NOTA_MT, NU_NOTA_REDACAO, NU_NOTA_CH, NU_NOTA_LC) entre o TIPO DA ESCOLA(TP_ESCOLA)?**"
      ],
      "metadata": {
        "id": "Q8wrobeNrcbv"
      }
    },
    {
      "cell_type": "markdown",
      "source": [
        "2.Hipótese: Alunos de escolas públicas (TP_ESCOLA = 2) têm desempenho diferente de alunos de escolas privadas (TP_ESCOLA = 1 ou 3) nas várias prova"
      ],
      "metadata": {
        "id": "n73h_mACr6vw"
      }
    },
    {
      "cell_type": "markdown",
      "source": [
        "**2. A origem da escola (TP_ESCOLA) influencia no desempenho dos alunos nas provas?**"
      ],
      "metadata": {
        "id": "ho0oNyxHrzjp"
      }
    },
    {
      "cell_type": "markdown",
      "source": [
        "3.Hipótese: Estudantes de diferentes grupos raciais podem ter médias de desempenho distintas, o que pode indicar desigualdades no acesso ou na qualidade do ensino."
      ],
      "metadata": {
        "id": "d7vI14lBsmYb"
      }
    },
    {
      "cell_type": "markdown",
      "source": [
        "**3. Há uma relação entre a cor/raça (TP_COR_RACA) e o desempenho nas provas?**\n"
      ],
      "metadata": {
        "id": "PfaF4Nk2sc5A"
      }
    },
    {
      "cell_type": "markdown",
      "source": [
        "ANÁLISE DAS HIPÓTESES DA PERGUNTA 1 PARA CORRELAÇÕES"
      ],
      "metadata": {
        "id": "_2p41EEsuzGf"
      }
    },
    {
      "cell_type": "markdown",
      "source": [
        "Correlação entre notas (NU_NOTA_CN, NU_NOTA_MT, NU_NOTA_LC, NU_NOTA_REDACAO, TP_ESCOLA): Espera-se que as notas das diferentes provas tenham uma correlação alta, já que alunos com boas notas em uma disciplina tendem a ter boas notas em outras também.\n",
        "\n",
        "Correlação entre TP_ESCOLA e as notas: Isso ajuda a verificar se alunos de escolas públicas e privadas têm desempenho diferente."
      ],
      "metadata": {
        "id": "KcBkW-VcvfBt"
      }
    },
    {
      "cell_type": "code",
      "source": [
        "# Converter as variáveis categóricas para numéricas\n",
        "df_selecionado['TP_ESCOLA'] = df_selecionado['TP_ESCOLA'].astype(int)  # Garantir que TP_ESCOLA seja numérico\n",
        "\n",
        "# Selecionar apenas as colunas relevantes para correlação (5 atributos)\n",
        "correlacao_df = df_selecionado[['NU_NOTA_CN', 'NU_NOTA_MT', 'NU_NOTA_LC', 'NU_NOTA_REDACAO', 'TP_ESCOLA']]\n",
        "\n",
        "# Calcular a matriz de correlação\n",
        "correlacao_matriz = correlacao_df.corr()\n",
        "\n",
        "# Exibir a matriz de correlação com 2 casas decimais para melhor leitura\n",
        "correlacao_matriz = correlacao_matriz.round(2)\n",
        "\n",
        "print(correlacao_matriz)\n"
      ],
      "metadata": {
        "colab": {
          "base_uri": "https://localhost:8080/"
        },
        "id": "eyr_OpCav80V",
        "outputId": "d7fac3bf-eb75-4d84-c76d-a3c2e2cfef42"
      },
      "execution_count": 81,
      "outputs": [
        {
          "output_type": "stream",
          "name": "stdout",
          "text": [
            "                 NU_NOTA_CN  NU_NOTA_MT  NU_NOTA_LC  NU_NOTA_REDACAO  \\\n",
            "NU_NOTA_CN             1.00        0.68        0.02             0.02   \n",
            "NU_NOTA_MT             0.68        1.00        0.05             0.06   \n",
            "NU_NOTA_LC             0.02        0.05        1.00             0.07   \n",
            "NU_NOTA_REDACAO        0.02        0.06        0.07             1.00   \n",
            "TP_ESCOLA              0.02        0.03       -0.00            -0.01   \n",
            "\n",
            "                 TP_ESCOLA  \n",
            "NU_NOTA_CN            0.02  \n",
            "NU_NOTA_MT            0.03  \n",
            "NU_NOTA_LC           -0.00  \n",
            "NU_NOTA_REDACAO      -0.01  \n",
            "TP_ESCOLA             1.00  \n"
          ]
        },
        {
          "output_type": "stream",
          "name": "stderr",
          "text": [
            "<ipython-input-81-43d7fcd5e32a>:2: SettingWithCopyWarning: \n",
            "A value is trying to be set on a copy of a slice from a DataFrame.\n",
            "Try using .loc[row_indexer,col_indexer] = value instead\n",
            "\n",
            "See the caveats in the documentation: https://pandas.pydata.org/pandas-docs/stable/user_guide/indexing.html#returning-a-view-versus-a-copy\n",
            "  df_selecionado['TP_ESCOLA'] = df_selecionado['TP_ESCOLA'].astype(int)  # Garantir que TP_ESCOLA seja numérico\n"
          ]
        }
      ]
    },
    {
      "cell_type": "markdown",
      "source": [
        "O código vai gerar um mapa de calor que representa visualmente as correlações entre as variáveis selecionadas. As cores vão variar entre azul (correlação negativa) e vermelho (correlação positiva), e os valores de correlação numérica serão exibidos dentro das células."
      ],
      "metadata": {
        "id": "E9Q1UPp74edi"
      }
    },
    {
      "cell_type": "code",
      "source": [
        "#Para exibir um mapa de calor (heatmap) correspondente à matriz de correlação, a biblioteca Seaborn é uma extensão do Matplotlib e facilita a criação de visualizações de dados, incluindo mapas de calor.\n",
        "# Selecionar apenas as colunas relevantes para correlação\n",
        "\n",
        "import pandas as pd\n",
        "import seaborn as sns\n",
        "import matplotlib.pyplot as plt\n",
        "\n",
        "matriz_correlacao = df_selecionado[['NU_NOTA_CN', 'NU_NOTA_MT', 'NU_NOTA_LC', 'NU_NOTA_REDACAO', 'TP_ESCOLA']]\n",
        "\n",
        "# Calcular a matriz de correlação\n",
        "matriz_correlacao_valores = matriz_correlacao.corr()\n",
        "\n",
        "# Configurar o mapa de calor\n",
        "plt.figure(figsize=(8, 6))\n",
        "sns.heatmap(matriz_correlacao_valores, annot=True, cmap='coolwarm', fmt='.2f', vmin=-1, vmax=1, linewidths=0.5)\n",
        "\n",
        "# Exibir o título e o gráfico\n",
        "plt.title('Mapa de Calor - Matriz de Correlação')\n",
        "plt.show()"
      ],
      "metadata": {
        "colab": {
          "base_uri": "https://localhost:8080/",
          "height": 671
        },
        "id": "O2U_yO4uzORh",
        "outputId": "2d9823fa-fc62-4597-a73b-02f6cc5a328e"
      },
      "execution_count": 87,
      "outputs": [
        {
          "output_type": "display_data",
          "data": {
            "text/plain": [
              "<Figure size 800x600 with 2 Axes>"
            ],
            "image/png": "[encoded data removed]"
          },
          "metadata": {}
        }
      ]
    },
    {
      "cell_type": "code",
      "source": [
        "import pandas as pd\n",
        "import numpy as np\n",
        "\n",
        "# Supondo que você já tenha o DataFrame 'df_selecionado'\n",
        "# usaremos .copy() para evitar a \"view\"\n",
        "df_selecionado = df_selecionado.copy()\n",
        "\n",
        "# Converter variáveis categóricas para numéricas\n",
        "df_selecionado.loc[:, 'TP_SEXO'] = df_selecionado['TP_SEXO'].map({'F': 1, 'M': 0})  # 1 para feminino, 0 para masculino\n",
        "df_selecionado.loc[:, 'TP_ESCOLA'] = df_selecionado['TP_ESCOLA'].astype(int)\n",
        "\n",
        "# Selecionar apenas as colunas relevantes para análise exploratória\n",
        "atributos_selecionados = df_selecionado[['NU_NOTA_CN', 'NU_NOTA_MT', 'NU_NOTA_LC', 'NU_NOTA_REDACAO', 'TP_SEXO', 'TP_ESCOLA']].copy()\n",
        "\n",
        "# Preencher valores ausentes (NaN) de forma diferente para cada coluna\n",
        "# Para variáveis numéricas (como as notas), preencher com a mediana\n",
        "atributos_selecionados.loc[:, 'NU_NOTA_CN'] = atributos_selecionados['NU_NOTA_CN'].fillna(atributos_selecionados['NU_NOTA_CN'].median())\n",
        "atributos_selecionados.loc[:, 'NU_NOTA_MT'] = atributos_selecionados['NU_NOTA_MT'].fillna(atributos_selecionados['NU_NOTA_MT'].median())\n",
        "atributos_selecionados.loc[:, 'NU_NOTA_LC'] = atributos_selecionados['NU_NOTA_LC'].fillna(atributos_selecionados['NU_NOTA_LC'].median())\n",
        "atributos_selecionados.loc[:, 'NU_NOTA_REDACAO'] = atributos_selecionados['NU_NOTA_REDACAO'].fillna(atributos_selecionados['NU_NOTA_REDACAO'].median())\n",
        "\n",
        "# Para a variável categórica 'TP_SEXO', preencher com a moda (valor mais frequente), se disponível\n",
        "moda_tp_sexo = atributos_selecionados['TP_SEXO'].mode()\n",
        "if not moda_tp_sexo.empty:\n",
        "    atributos_selecionados.loc[:, 'TP_SEXO'] = atributos_selecionados['TP_SEXO'].fillna(moda_tp_sexo[0])\n",
        "else:\n",
        "    # Se não houver moda (ex. todos os valores são NaN), preencher com 0 ou outro valor\n",
        "    atributos_selecionados.loc[:, 'TP_SEXO'] = atributos_selecionados['TP_SEXO'].fillna(0)\n",
        "\n",
        "# Para a variável 'TP_ESCOLA', preencher com a moda também (se necessário)\n",
        "moda_tp_escola = atributos_selecionados['TP_ESCOLA'].mode()\n",
        "if not moda_tp_escola.empty:\n",
        "    atributos_selecionados.loc[:, 'TP_ESCOLA'] = atributos_selecionados['TP_ESCOLA'].fillna(moda_tp_escola[0])\n",
        "else:\n",
        "    # Caso a moda de TP_ESCOLA também esteja vazia, podemos preencher com um valor padrão\n",
        "    atributos_selecionados.loc[:, 'TP_ESCOLA'] = atributos_selecionados['TP_ESCOLA'].fillna(1)\n",
        "\n",
        "# Cálculo das medidas descritivas\n",
        "analise_exploratoria = atributos_selecionados.describe().transpose()\n",
        "\n",
        "# Medidas adicionais: Média, Mediana, Moda, Obliquidade e Curtose\n",
        "# Mediana\n",
        "analise_exploratoria['Mediana'] = atributos_selecionados.median()\n",
        "\n",
        "# Moda (verificando se a moda não está vazia antes de acessá-la)\n",
        "moda = atributos_selecionados.mode()\n",
        "analise_exploratoria['Moda'] = moda.iloc[0] if not moda.empty else np.nan\n",
        "\n",
        "# Obliquidade (assimetria)\n",
        "analise_exploratoria['Obliquidade'] = atributos_selecionados.skew()\n",
        "\n",
        "# Curtose (pico da distribuição)\n",
        "analise_exploratoria['Curtose'] = atributos_selecionados.kurt()\n",
        "\n",
        "# Arredondar todos os valores para duas casas decimais\n",
        "analise_exploratoria = analise_exploratoria.round(2)\n",
        "\n",
        "# Exibir as estatísticas\n",
        "print(analise_exploratoria)\n",
        "\n",
        "\n"
      ],
      "metadata": {
        "colab": {
          "base_uri": "https://localhost:8080/"
        },
        "id": "qNqyQWKg9Oml",
        "outputId": "c6d48498-25c8-42ff-f2ae-9d207fb19bfe"
      },
      "execution_count": 91,
      "outputs": [
        {
          "output_type": "stream",
          "name": "stdout",
          "text": [
            "                   count  mean   std  min   25%   50%   75%   max   Mediana  \\\n",
            "NU_NOTA_CN       10000.0  0.55  0.01  0.0  0.55  0.55  0.55  0.56  0.552065   \n",
            "NU_NOTA_MT       10000.0  0.55  0.01  0.0  0.55  0.55  0.55  0.56  0.553268   \n",
            "NU_NOTA_LC       10000.0  0.55  0.01  0.0  0.55  0.55  0.55  0.56  0.553106   \n",
            "NU_NOTA_REDACAO  10000.0  0.54  0.10  0.0  0.55  0.56  0.56  0.56  0.555138   \n",
            "TP_ESCOLA        10000.0  0.43  0.60  0.0  0.00  0.00  1.00  2.00       0.0   \n",
            "\n",
            "                     Moda Obliquidade      Curtose  \n",
            "NU_NOTA_CN       0.552065  -67.000911  4652.125793  \n",
            "NU_NOTA_MT       0.553268  -80.441782  7480.726634  \n",
            "NU_NOTA_LC       0.553106  -55.127517  3131.696861  \n",
            "NU_NOTA_REDACAO  0.555138   -5.079479    23.827416  \n",
            "TP_ESCOLA               0    1.059352      0.09476  \n"
          ]
        },
        {
          "output_type": "stream",
          "name": "stderr",
          "text": [
            "<ipython-input-91-af6c57984df2>:28: FutureWarning: Downcasting object dtype arrays on .fillna, .ffill, .bfill is deprecated and will change in a future version. Call result.infer_objects(copy=False) instead. To opt-in to the future behavior, set `pd.set_option('future.no_silent_downcasting', True)`\n",
            "  atributos_selecionados.loc[:, 'TP_SEXO'] = atributos_selecionados['TP_SEXO'].fillna(0)\n"
          ]
        }
      ]
    },
    {
      "cell_type": "code",
      "source": [
        "import matplotlib.pyplot as plt\n",
        "import seaborn as sns\n",
        "\n",
        "# Selecionar as colunas relevantes para a análise\n",
        "atributos_selecionados = df_selecionado[['NU_NOTA_CN', 'NU_NOTA_MT', 'NU_NOTA_LC', 'NU_NOTA_REDACAO', 'NU_NOTA_CH', 'TP_ESCOLA']]\n",
        "\n",
        "# Definir o tamanho das figuras\n",
        "plt.figure(figsize=(15, 10))\n",
        "\n",
        "# Criar um histograma para cada atributo\n",
        "for i, coluna in enumerate(atributos_selecionados.columns, 1):\n",
        "    plt.subplot(2, 3, i)  # Organizar em 2 linhas e 3 colunas\n",
        "\n",
        "    # Para a variável categórica TP_SEXO, usamos countplot\n",
        "    if coluna == 'TP_SEXO':\n",
        "        sns.countplot(x=atributos_selecionados[coluna], palette='Blues')\n",
        "    else:\n",
        "        sns.histplot(atributos_selecionados[coluna], kde=True, bins=30, color='skyblue')\n",
        "\n",
        "    plt.title(f'Histograma de {coluna}')\n",
        "    plt.xlabel(coluna)\n",
        "    plt.ylabel('Frequência')\n",
        "\n",
        "# Ajuste do layout para não sobrepor as figuras\n",
        "plt.tight_layout()\n",
        "plt.show()\n"
      ],
      "metadata": {
        "colab": {
          "base_uri": "https://localhost:8080/",
          "height": 905
        },
        "id": "ADYVqNi36avL",
        "outputId": "c7fbc0fc-2574-402c-b20b-66cd6259aa8c"
      },
      "execution_count": 94,
      "outputs": [
        {
          "output_type": "display_data",
          "data": {
            "text/plain": [
              "<Figure size 1500x1000 with 6 Axes>"
            ],
            "image/png": "[encoded data removed]"
          },
          "metadata": {}
        }
      ]
    },
    {
      "cell_type": "markdown",
      "source": [
        "1. Histograma de NU_NOTA_CN (Nota de Ciências da Natureza)\n",
        "    Interpretação:\n",
        "\n",
        "        O gráfico mostra como as notas de Ciências da Natureza estão distribuídas entre os participantes.\n",
        "\n",
        "        Se a distribuição for mais concentrada em torno de um valor, isso indica que a maioria dos alunos obteve notas similares.\n",
        "\n",
        "        A forma do gráfico pode ser simétrica, assimétrica ou ter uma distribuição em forma de campânula (normal).\n",
        "\n",
        "        Caso haja picos (outliers), isso pode indicar que muitos alunos tiraram uma nota semelhante, o que pode representar um padrão de desempenho ou um limite nos dados.\n",
        "\n",
        "        A linha de densidade (kde) adicionada ao gráfico mostra a suavização da distribuição, ajudando a entender a tendência central da variável.\n",
        "\n",
        "2. Histograma de NU_NOTA_MT (Nota de Matemática)\n",
        "\n",
        "    Interpretação:\n",
        "\n",
        "        O gráfico mostra como as notas de Matemática estão distribuídas.\n",
        "\n",
        "        Da mesma forma que o gráfico de NU_NOTA_CN, é possível observar a concentração das notas. A distribuição pode ser:\n",
        "\n",
        "            Assimétrica: Muitas pessoas tiraram notas baixas ou altas, mas com poucas no meio.\n",
        "\n",
        "            Simétrica ou normal: A distribuição pode ser mais equilibrada, com a maioria das pessoas tirando notas medianas e menos pessoas com notas extremamente altas ou baixas.\n",
        "\n",
        "        A presença de uma cauda longa (skew) pode indicar que a maioria dos alunos obteve notas mais baixas ou mais altas em comparação com o restante da distribuição.\n",
        "\n",
        "3. Histograma de NU_NOTA_LC (Nota de Linguagens e Códigos)\n",
        "\n",
        "    Interpretação:\n",
        "\n",
        "        O gráfico apresenta a distribuição das notas de Linguagens e Códigos.\n",
        "\n",
        "        Como nas outras variáveis, se a distribuição for asimétrica, significa que a maioria dos participantes obteve notas muito baixas ou muito altas.\n",
        "\n",
        "        Se a distribuição for simétrica, isso indica que as notas estão mais uniformemente distribuídas entre os participantes.\n",
        "\n",
        "        Outliers (valores extremos) podem aparecer como barras distantes das demais. Se houver muitos valores perto de zero, isso pode indicar que alguns alunos não conseguiram desempenho significativo nessa área.\n",
        "\n",
        "4. Histograma de TP_ESCOLA (Tipo de Escola)\n",
        "\n",
        "    Interpretação:\n",
        "\n",
        "        TP_ESCOLA é uma variável categórica que indica o tipo de escola onde o aluno estudou, com valores como:\n",
        "\n",
        "            1 – Escola pública.\n",
        "\n",
        "            2 – Escola privada.\n",
        "\n",
        "            3 – Outro tipo de escola.\n",
        "\n",
        "        O histograma terá três barras, representando essas três categorias.\n",
        "\n",
        "        A altura de cada barra mostrará a frequência de alunos de cada tipo de escola no conjunto de dados.\n",
        "\n",
        "        A distribuição pode ajudar a entender a representação dos alunos de escolas públicas, privadas e outros tipos de escolas no dataset."
      ],
      "metadata": {
        "id": "ZvBavlj9GD1A"
      }
    },
    {
      "cell_type": "code",
      "source": [
        "import matplotlib.pyplot as plt\n",
        "import seaborn as sns\n",
        "\n",
        "# Selecionar as colunas relevantes para a análise\n",
        "atributos_selecionados = df_selecionado[['NU_NOTA_CN', 'NU_NOTA_MT', 'NU_NOTA_LC', 'NU_NOTA_CH', 'NU_NOTA_REDACAO',  'TP_ESCOLA']]\n",
        "\n",
        "# Definir o tamanho das figuras\n",
        "plt.figure(figsize=(15, 10))\n",
        "\n",
        "# Criar um boxplot para cada atributo\n",
        "for i, coluna in enumerate(atributos_selecionados.columns, 1):\n",
        "    plt.subplot(2, 3, i)  # Organizar em 2 linhas e 3 colunas\n",
        "\n",
        "    # Para a variável categórica TP_SEXO, usamos boxplot com hue\n",
        "    if coluna == 'TP_SEXO':\n",
        "        sns.boxplot(x=atributos_selecionados[coluna], y=atributos_selecionados['NU_NOTA_CN'], showfliers=False)\n",
        "    elif coluna == 'TP_ESCOLA':\n",
        "        sns.boxplot(x=atributos_selecionados[coluna], y=atributos_selecionados['NU_NOTA_MT'], showfliers=False)\n",
        "    else:\n",
        "        sns.boxplot(x=atributos_selecionados[coluna], showfliers=False)  # Usando as outras variáveis numéricas\n",
        "\n",
        "    plt.title(f'Boxplot de {coluna}')\n",
        "    plt.xlabel(coluna)\n",
        "    plt.ylabel('Valor')\n",
        "\n",
        "# Ajuste do layout para não sobrepor as figuras\n",
        "plt.tight_layout()\n",
        "plt.show()\n"
      ],
      "metadata": {
        "colab": {
          "base_uri": "https://localhost:8080/",
          "height": 905
        },
        "id": "hacMZ1uvHKbi",
        "outputId": "2b780b1a-8c25-41fa-c451-3555bd765dbe"
      },
      "execution_count": 85,
      "outputs": [
        {
          "output_type": "display_data",
          "data": {
            "text/plain": [
              "<Figure size 1500x1000 with 6 Axes>"
            ],
            "image/png": "[encoded data removed]"
          },
          "metadata": {}
        }
      ]
    },
    {
      "cell_type": "markdown",
      "source": [
        "1. Boxplot de NU_NOTA_CN (Nota de Ciências da Natureza):\n",
        "\n",
        "    Descrição: Esse gráfico representa a distribuição das notas de Ciências da Natureza dos alunos.\n",
        "\n",
        "    Componentes:\n",
        "\n",
        "        Caixa (box): Representa o intervalo entre o 1º e o 3º quartil (Q1 e Q3), ou seja, 50% das observações estão dentro dessa caixa.\n",
        "\n",
        "        Linha dentro da caixa: A mediana da nota (Q2), que é o valor central das notas. O que indica o valor típico da nota de Ciências.\n",
        "\n",
        "        Bigodes: São as linhas horizontais que se estendem até o menor e maior valor dentro de 1.5 vezes o intervalo interquartil (Q3 - Q1). Esses valores representam os extremos sem serem considerados \"outliers\".\n",
        "\n",
        "        Outliers: São os pontos fora da extensão dos bigodes, ou seja, notas extremamente baixas ou altas em relação à distribuição das demais.\n",
        "\n",
        "    Interpretação: Se a mediana estiver perto do centro da caixa e se a extensão dos bigodes for semelhante, isso indica que a distribuição das notas de Ciências da Natureza é relativamente simétrica. Se houver muitos outliers (pontos fora dos bigodes), significa que algumas notas estão muito distantes da maior parte dos dados.\n",
        "\n",
        "2. Boxplot de NU_NOTA_MT (Nota de Matemática):\n",
        "\n",
        "    Descrição: Representa a distribuição das notas de Matemática.\n",
        "\n",
        "    Interpretação: Semelhante ao gráfico de Ciências, esse boxplot mostra como as notas de Matemática estão distribuídas, destacando a mediana e as variações nas notas. Se a caixa for mais larga, isso indica uma maior dispersão das notas de Matemática.\n",
        "\n",
        "3. Boxplot de NU_NOTA_LC (Nota de Linguagens e Códigos):\n",
        "\n",
        "    Descrição: Esse gráfico mostra como as notas de Linguagens e Códigos estão distribuídas.\n",
        "\n",
        "    Interpretação: Novamente, a caixa e os bigodes ajudam a identificar a dispersão das notas. A mediana indica o valor central e os outliers, se presentes, indicam notas que estão fora do padrão comum.\n",
        "\n",
        "4. Boxplot de TP_ESCOLA (Tipo de Escola: pública ou privada):\n",
        "\n",
        "    Descrição: Esse boxplot permite comparar as notas entre alunos de escolas públicas e privadas. O eixo X pode representar a variável \"TP_ESCOLA\" (onde 1 indica escolas públicas e 2 indica escolas privadas) e o eixo Y mostrará as notas de uma determinada matéria (por exemplo, Matemática).\n",
        "\n",
        "    Interpretação: Comparando as distribuições das notas entre os dois tipos de escola, podemos analisar se alunos de escolas privadas têm, em média, um desempenho melhor ou pior do que alunos de escolas públicas. A diferença na largura da caixa, mediana e presença de outliers pode indicar variações nas notas entre os tipos de escola."
      ],
      "metadata": {
        "id": "f6NicFlsH8z6"
      }
    },
    {
      "cell_type": "code",
      "source": [
        "import pandas as pd\n",
        "\n",
        "# Selecionar as colunas numéricas\n",
        "atributos_selecionados = df_selecionado[['NU_NOTA_CN', 'NU_NOTA_MT', 'NU_NOTA_LC', 'NU_NOTA_REDACAO', 'NU_NOTA_CH', 'TP_SEXO', 'TP_ESCOLA']]\n",
        "\n",
        "# Função para detectar outliers\n",
        "def detectar_outliers(df, coluna):\n",
        "    # Calcular Q1, Q3 e IQR\n",
        "    Q1 = df[coluna].quantile(0.25)\n",
        "    Q3 = df[coluna].quantile(0.75)\n",
        "    IQR = Q3 - Q1\n",
        "\n",
        "    # Limites de outliers\n",
        "    limite_inferior = Q1 - 1.5 * IQR\n",
        "    limite_superior = Q3 + 1.5 * IQR\n",
        "\n",
        "    # Identificar outliers\n",
        "    outliers = df[(df[coluna] < limite_inferior) | (df[coluna] > limite_superior)]\n",
        "    return outliers\n",
        "\n",
        "# Detectar outliers para cada coluna\n",
        "for coluna in atributos_selecionados.columns:\n",
        "    outliers = detectar_outliers(atributos_selecionados, coluna)\n",
        "    print(f\"Outliers para {coluna}:\")\n",
        "    print(outliers[[coluna]])  # Exibindo apenas a coluna de interesse\n",
        "    print('-' * 50)\n"
      ],
      "metadata": {
        "colab": {
          "base_uri": "https://localhost:8080/"
        },
        "id": "bZCA7XguJKQt",
        "outputId": "6b588f36-bdee-4c3c-f766-7387a92a157f"
      },
      "execution_count": 95,
      "outputs": [
        {
          "output_type": "stream",
          "name": "stdout",
          "text": [
            "Outliers para NU_NOTA_CN:\n",
            "      NU_NOTA_CN\n",
            "775     0.558084\n",
            "1561    0.000000\n",
            "2785    0.557724\n",
            "2896    0.558021\n",
            "4172    0.557955\n",
            "6743    0.000000\n",
            "7548    0.557864\n",
            "8492    0.558122\n",
            "8521    0.557868\n",
            "8932    0.557990\n",
            "--------------------------------------------------\n",
            "Outliers para NU_NOTA_MT:\n",
            "      NU_NOTA_MT\n",
            "1561         0.0\n",
            "--------------------------------------------------\n",
            "Outliers para NU_NOTA_LC:\n",
            "      NU_NOTA_LC\n",
            "1       0.545528\n",
            "8       0.547179\n",
            "130     0.547462\n",
            "181     0.546278\n",
            "249     0.547650\n",
            "...          ...\n",
            "9548    0.547409\n",
            "9552    0.545470\n",
            "9565    0.547534\n",
            "9633    0.545788\n",
            "9986    0.547761\n",
            "\n",
            "[174 rows x 1 columns]\n",
            "--------------------------------------------------\n",
            "Outliers para NU_NOTA_REDACAO:\n",
            "      NU_NOTA_REDACAO\n",
            "46           0.000000\n",
            "58           0.000000\n",
            "85           0.000000\n",
            "105          0.544529\n",
            "106          0.000000\n",
            "...               ...\n",
            "9938         0.000000\n",
            "9959         0.543438\n",
            "9981         0.000000\n",
            "9986         0.000000\n",
            "9996         0.000000\n",
            "\n",
            "[463 rows x 1 columns]\n",
            "--------------------------------------------------\n",
            "Outliers para NU_NOTA_CH:\n",
            "      NU_NOTA_CH\n",
            "235        760.0\n",
            "442          0.0\n",
            "486        321.0\n",
            "792        309.8\n",
            "822        321.7\n",
            "899        314.4\n",
            "1044       735.9\n",
            "1326         0.0\n",
            "1352       317.5\n",
            "1401       319.2\n",
            "1654       308.7\n",
            "1738         0.0\n",
            "1765       740.8\n",
            "1836       753.7\n",
            "1898       315.8\n",
            "1981         0.0\n",
            "2026       736.8\n",
            "2240         0.0\n",
            "2574       318.0\n",
            "2700         0.0\n",
            "2823         0.0\n",
            "2896       742.8\n",
            "3175       737.0\n",
            "3473       316.4\n",
            "3645       322.7\n",
            "3865       753.0\n",
            "3875       744.8\n",
            "3998         0.0\n",
            "4025         0.0\n",
            "4172       775.4\n",
            "4300       320.7\n",
            "5019       307.7\n",
            "5116       320.9\n",
            "5320       738.4\n",
            "5369         0.0\n",
            "5605       323.0\n",
            "5706         0.0\n",
            "5852       311.6\n",
            "5935       320.1\n",
            "5971         0.0\n",
            "6012       319.6\n",
            "6048       745.7\n",
            "6117         0.0\n",
            "6239       320.9\n",
            "6475         0.0\n",
            "6539       312.9\n",
            "6879         0.0\n",
            "7479       320.5\n",
            "8115       736.8\n",
            "8469         0.0\n",
            "8492       739.1\n",
            "8538       308.0\n",
            "8873       748.5\n",
            "9012         0.0\n",
            "9208       748.9\n",
            "9343       305.1\n",
            "9455       309.3\n",
            "--------------------------------------------------\n",
            "Outliers para TP_SEXO:\n",
            "Empty DataFrame\n",
            "Columns: [TP_SEXO]\n",
            "Index: []\n",
            "--------------------------------------------------\n",
            "Outliers para TP_ESCOLA:\n",
            "Empty DataFrame\n",
            "Columns: [TP_ESCOLA]\n",
            "Index: []\n",
            "--------------------------------------------------\n"
          ]
        }
      ]
    },
    {
      "cell_type": "markdown",
      "source": [
        "    Calcula Q1, Q3 e IQR para cada coluna (atributo).\n",
        "\n",
        "    Calcula os limites de outlier com base no IQR.\n",
        "\n",
        "    Identifica e exibe os outliers para cada variável, ou seja, os valores que estão abaixo do limite inferior ou acima do limite superior.\n",
        "\n",
        "Resultado esperado:\n",
        "\n",
        "Este código retornará os valores que são considerados outliers para cada uma das variáveis selecionadas. Eles são definidos como valores que estão fora dos limites calculados pelo IQR\n",
        "\n",
        "Interpretação dos Outliers:\n",
        "\n",
        "    Se a variável tiver valores abaixo do limite inferior ou acima do limite superior, eles são considerados outliers.\n",
        "\n",
        "    Esses outliers podem ser de interesse se estiverem relacionados a erros de dados, ou podem ser interessantes se representarem casos excepcionais ou extremos."
      ],
      "metadata": {
        "id": "2VDBVHSBJlM6"
      }
    }
  ]
}